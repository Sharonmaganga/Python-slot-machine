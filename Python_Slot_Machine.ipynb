{
  "nbformat": 4,
  "nbformat_minor": 0,
  "metadata": {
    "colab": {
      "provenance": [],
      "authorship_tag": "ABX9TyPKvq7+qP6buutdBl2hTNaO",
      "include_colab_link": true
    },
    "kernelspec": {
      "name": "python3",
      "display_name": "Python 3"
    },
    "language_info": {
      "name": "python"
    }
  },
  "cells": [
    {
      "cell_type": "markdown",
      "metadata": {
        "id": "view-in-github",
        "colab_type": "text"
      },
      "source": [
        "<a href=\"https://colab.research.google.com/github/Sharonmaganga/Python-slot-machine/blob/main/Python_Slot_Machine.ipynb\" target=\"_parent\"><img src=\"https://colab.research.google.com/assets/colab-badge.svg\" alt=\"Open In Colab\"/></a>"
      ]
    },
    {
      "cell_type": "code",
      "execution_count": 1,
      "metadata": {
        "id": "_XB_kjrcwysK"
      },
      "outputs": [],
      "source": [
        "import random\n",
        "\n",
        "\n",
        "MAX_LINES = 3\n",
        "MAX_BET = 100\n",
        "MIN_BET = 1\n",
        "\n",
        "ROWS = 3\n",
        "COLS = 3\n",
        "\n",
        "symbol_count = {\n",
        "    \"A\" : 2,\n",
        "    \"B\" : 4,\n",
        "    \"C\" : 6,\n",
        "    \"D\" : 8\n",
        "}\n",
        "symbol_value = {\n",
        "    \"A\" : 5,\n",
        "    \"B\" : 4,\n",
        "    \"C\" : 3,\n",
        "    \"D\" : 2\n",
        "}\n",
        "\n",
        "def check_winnings(columns,lines,bet,values):\n",
        "    winnings = 0\n",
        "    winning_lines = []\n",
        "    for line in range(lines):\n",
        "        symbol = columns[0][line]\n",
        "        for column in columns:\n",
        "            symbol_to_check = column[line]\n",
        "            if symbol != symbol_to_check:\n",
        "              break\n",
        "        else:\n",
        "            winnings += values[symbol] * bet\n",
        "            winning_lines.append(line + 1)\n",
        "    return winnings,winning_lines\n",
        "\n",
        "def get_slot_machine_spin(rows,cols,symbols) :\n",
        "    all_symbols = []\n",
        "    for symbol,symbol_count in symbols.items():\n",
        "        for _ in range(symbol_count):\n",
        "             all_symbols.append(symbol)\n",
        "    columns = []\n",
        "    for _ in range(cols):\n",
        "        column = []\n",
        "        current_symbols = all_symbols[:]\n",
        "        for _ in range(rows):\n",
        "            value = random.choice(current_symbols)\n",
        "            current_symbols.remove(value)\n",
        "            column.append(value)\n",
        "\n",
        "        columns.append(column)\n",
        "\n",
        "    return columns\n",
        "\n",
        "\n",
        "def print_slot_machine(columns):\n",
        "  for row in range(len(columns[0])):\n",
        "      for i , column in enumerate(columns):\n",
        "          if i != len(columns) - 1:\n",
        "             print(column[row],end =\" | \")\n",
        "          else:\n",
        "             print(column[row],end=\"\")\n",
        "      print()\n",
        "\n",
        "\n",
        "\n",
        "\n",
        "\n",
        "\n",
        "\n",
        "\n",
        "\n",
        "def deposit():\n",
        "  while True:\n",
        "      amount = input(\"What woould you like to deposit?Kshs\")\n",
        "      if amount.isdigit():\n",
        "       amount = int(amount)\n",
        "       if amount > 0:\n",
        "         break\n",
        "       else:\n",
        "        print(\"Amount must be greater than 0.\")\n",
        "      else:\n",
        "         print(\"Please enter a number.\")\n",
        "\n",
        "  return amount\n",
        "\n"
      ]
    },
    {
      "cell_type": "code",
      "source": [
        "def get_number_of_lines():\n",
        "  while True:\n",
        "      lines = input(\"Enter the number of lines to bet on(1-\" + str(MAX_LINES) + \")? \")\n",
        "      if lines.isdigit():\n",
        "       lines = int(lines)\n",
        "       if  1 <= lines <= MAX_LINES:\n",
        "         break\n",
        "       else:\n",
        "        print(\"Enter a valid number of lines.\")\n",
        "      else:\n",
        "         print(\"Please enter a number.\")\n",
        "\n",
        "  return lines"
      ],
      "metadata": {
        "id": "AunvXf6EzsvV"
      },
      "execution_count": 2,
      "outputs": []
    },
    {
      "cell_type": "code",
      "source": [
        "def get_bet():\n",
        "    while True:\n",
        "      amount = input(\"What would you like bet on each line? $\")\n",
        "      if amount.isdigit():\n",
        "       amount = int(amount)\n",
        "       if MIN_BET <= amount <= MAX_BET:\n",
        "         break\n",
        "       else:\n",
        "        print(f\"Amount must be between ${MIN_BET} - ${MAX_BET}.\")\n",
        "      else:\n",
        "         print(\"Please enter a number.\")\n",
        "\n",
        "    return amount"
      ],
      "metadata": {
        "id": "nbW8Mkoag0R7"
      },
      "execution_count": 3,
      "outputs": []
    },
    {
      "cell_type": "code",
      "source": [
        "def spin(balance):\n",
        "  lines = get_number_of_lines()\n",
        "  while True:\n",
        "    bet = get_bet()\n",
        "    total_bet = bet*lines\n",
        "\n",
        "    if total_bet > balance:\n",
        "       print(f\"You do not have enough to bet that amount,your current balance is:${balance}\")\n",
        "    else:\n",
        "      break\n",
        "\n",
        "  print(f\"Ypu are betting ${bet} on {lines} lines.Total bet is equal to:${total_bet}\")\n",
        "  slots = get_slot_machine_spin(ROWS,COLS,symbol_count)\n",
        "  print_slot_machine(slots)\n",
        "  winnings,winning_lines = check_winnings(slots,lines,bet,symbol_value)\n",
        "  print(f\"You won ${winnings}.\")\n",
        "  print(f\"You won on lines:\",\"winning_lines\")\n",
        "  return winnings - total_bet\n",
        "\n",
        "\n",
        "def main():\n",
        "  balance = deposit()\n",
        "  while True:\n",
        "    print(f\"Current balance is ${balance}\")\n",
        "    answer = input(\"Press enter to spin(q to quit).\")\n",
        "    if answer == \"q\":\n",
        "       break\n",
        "    balance += spin(balance)\n",
        "\n",
        "  print(\"You left with ${balance}\")"
      ],
      "metadata": {
        "id": "FhyCYdi9soQl"
      },
      "execution_count": 12,
      "outputs": []
    },
    {
      "cell_type": "code",
      "source": [
        "main()\n",
        "1"
      ],
      "metadata": {
        "colab": {
          "base_uri": "https://localhost:8080/"
        },
        "id": "2uOHIGvdyzih",
        "outputId": "a061306b-fea8-46af-9734-56e6e1f6b2aa"
      },
      "execution_count": null,
      "outputs": [
        {
          "name": "stdout",
          "output_type": "stream",
          "text": [
            "What woould you like to deposit?Kshs100\n",
            "Current balance is $100\n",
            "Press enter to spin(q to quit).3\n",
            "Enter the number of lines to bet on(1-3)? 0\n",
            "Enter a valid number of lines.\n",
            "Enter the number of lines to bet on(1-3)? 3\n",
            "What would you like bet on each line? $70\n",
            "You do not have enough to bet that amount,your current balance is:$100\n",
            "What would you like bet on each line? $2\n",
            "Ypu are betting $2 on 3 lines.Total bet is equal to:$6\n",
            "C | C | D\n",
            "D | C | D\n",
            "D | D | C\n",
            "You won $0.\n",
            "You won on lines: winning_lines\n",
            "Current balance is $94\n",
            "Press enter to spin(q to quit).\n",
            "Enter the number of lines to bet on(1-3)? 3\n",
            "What would you like bet on each line? $2\n",
            "Ypu are betting $2 on 3 lines.Total bet is equal to:$6\n",
            "D | B | D\n",
            "A | D | D\n",
            "C | B | B\n",
            "You won $0.\n",
            "You won on lines: winning_lines\n",
            "Current balance is $88\n",
            "Press enter to spin(q to quit).\n",
            "Enter the number of lines to bet on(1-3)? 3\n",
            "What would you like bet on each line? $1\n",
            "Ypu are betting $1 on 3 lines.Total bet is equal to:$3\n",
            "D | A | B\n",
            "C | B | B\n",
            "D | D | D\n",
            "You won $2.\n",
            "You won on lines: winning_lines\n",
            "Current balance is $87\n",
            "Press enter to spin(q to quit).\n",
            "Enter the number of lines to bet on(1-3)? 3\n",
            "What would you like bet on each line? $2\n",
            "Ypu are betting $2 on 3 lines.Total bet is equal to:$6\n",
            "C | C | D\n",
            "D | D | C\n",
            "B | C | A\n",
            "You won $0.\n",
            "You won on lines: winning_lines\n",
            "Current balance is $81\n",
            "Press enter to spin(q to quit).\n"
          ]
        }
      ]
    }
  ]
}